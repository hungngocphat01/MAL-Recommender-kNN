{
 "cells": [
  {
   "cell_type": "markdown",
   "id": "c72fcb04",
   "metadata": {},
   "source": [
    "This notebook preprocesses the dataset and select appropriate animes to save in the final recommendation dataset.\n",
    "\n",
    "The original UserAnime dataset has around 80M rows, so it is impossible to work it on my machine. One \"dirty\" workaround I came up with is to only select some animes which has high ranking to be included in the final recommender system."
   ]
  },
  {
   "cell_type": "code",
   "execution_count": 1,
   "id": "d415eef4",
   "metadata": {},
   "outputs": [],
   "source": [
    "import gc\n",
    "import pandas as pd\n",
    "import numpy as np\n",
    "import seaborn as sns\n",
    "import matplotlib.pyplot as plt"
   ]
  },
  {
   "cell_type": "markdown",
   "id": "be421b06",
   "metadata": {},
   "source": [
    "# Brief analyze of the \"anime list\"\n",
    "\n",
    "Just a very simple and dirty process to filter out \"valueable\" animes to be included in the final database"
   ]
  },
  {
   "cell_type": "code",
   "execution_count": 2,
   "id": "d72479cc",
   "metadata": {},
   "outputs": [
    {
     "name": "stdout",
     "output_type": "stream",
     "text": [
      "<class 'pandas.core.frame.DataFrame'>\n",
      "RangeIndex: 6668 entries, 0 to 6667\n",
      "Data columns (total 33 columns):\n",
      " #   Column           Non-Null Count  Dtype  \n",
      "---  ------           --------------  -----  \n",
      " 0   anime_id         6668 non-null   int64  \n",
      " 1   title            6668 non-null   object \n",
      " 2   title_english    3438 non-null   object \n",
      " 3   title_japanese   6663 non-null   object \n",
      " 4   title_synonyms   4481 non-null   object \n",
      " 5   image_url        6666 non-null   object \n",
      " 6   type             6668 non-null   object \n",
      " 7   source           6668 non-null   object \n",
      " 8   episodes         6668 non-null   int64  \n",
      " 9   status           6668 non-null   object \n",
      " 10  airing           6668 non-null   bool   \n",
      " 11  aired_string     6668 non-null   object \n",
      " 12  aired            6668 non-null   object \n",
      " 13  duration         6668 non-null   object \n",
      " 14  rating           6668 non-null   object \n",
      " 15  score            6668 non-null   float64\n",
      " 16  scored_by        6668 non-null   int64  \n",
      " 17  rank             6312 non-null   float64\n",
      " 18  popularity       6668 non-null   int64  \n",
      " 19  members          6668 non-null   int64  \n",
      " 20  favorites        6668 non-null   int64  \n",
      " 21  background       813 non-null    object \n",
      " 22  premiered        2966 non-null   object \n",
      " 23  broadcast        2980 non-null   object \n",
      " 24  related          6668 non-null   object \n",
      " 25  producer         4402 non-null   object \n",
      " 26  licensor         2787 non-null   object \n",
      " 27  studio           6668 non-null   object \n",
      " 28  genre            6664 non-null   object \n",
      " 29  opening_theme    6668 non-null   object \n",
      " 30  ending_theme     6668 non-null   object \n",
      " 31  duration_min     6668 non-null   float64\n",
      " 32  aired_from_year  6668 non-null   float64\n",
      "dtypes: bool(1), float64(4), int64(6), object(22)\n",
      "memory usage: 1.6+ MB\n"
     ]
    }
   ],
   "source": [
    "anime_df = pd.read_csv('anime_cleaned.csv.zip')\n",
    "anime_df.info()"
   ]
  },
  {
   "cell_type": "markdown",
   "id": "2f916f03",
   "metadata": {},
   "source": [
    "## Analyzing `type`"
   ]
  },
  {
   "cell_type": "code",
   "execution_count": 3,
   "id": "f6379a4e",
   "metadata": {},
   "outputs": [
    {
     "data": {
      "text/plain": [
       "<AxesSubplot:>"
      ]
     },
     "execution_count": 3,
     "metadata": {},
     "output_type": "execute_result"
    },
    {
     "data": {
      "image/png": "[encoded data removed]",
      "text/plain": [
       "<Figure size 432x288 with 1 Axes>"
      ]
     },
     "metadata": {
      "needs_background": "light"
     },
     "output_type": "display_data"
    }
   ],
   "source": [
    "anime_df.type.value_counts().plot(kind='barh')"
   ]
  },
  {
   "cell_type": "markdown",
   "id": "4757da40",
   "metadata": {},
   "source": [
    "For the time being, we should only keep \"TV\" and \"Movie\" animes."
   ]
  },
  {
   "cell_type": "code",
   "execution_count": 4,
   "id": "6b7d38b3",
   "metadata": {},
   "outputs": [
    {
     "data": {
      "text/plain": [
       "(3888, 33)"
      ]
     },
     "execution_count": 4,
     "metadata": {},
     "output_type": "execute_result"
    }
   ],
   "source": [
    "tvmv_df = anime_df[anime_df.type.isin(['TV', 'Movie'])]\n",
    "tvmv_df.shape"
   ]
  },
  {
   "cell_type": "markdown",
   "id": "a0126867",
   "metadata": {},
   "source": [
    "## Analyzing `scored_by`"
   ]
  },
  {
   "cell_type": "code",
   "execution_count": 5,
   "id": "aed6ccd8",
   "metadata": {},
   "outputs": [
    {
     "data": {
      "text/plain": [
       "<AxesSubplot:xlabel='scored_by', ylabel='Density'>"
      ]
     },
     "execution_count": 5,
     "metadata": {},
     "output_type": "execute_result"
    },
    {
     "data": {
      "image/png": "[encoded data removed]",
      "text/plain": [
       "<Figure size 432x288 with 1 Axes>"
      ]
     },
     "metadata": {
      "needs_background": "light"
     },
     "output_type": "display_data"
    }
   ],
   "source": [
    "sns.kdeplot(tvmv_df.scored_by)"
   ]
  },
  {
   "cell_type": "code",
   "execution_count": 6,
   "id": "029c6a4d",
   "metadata": {},
   "outputs": [
    {
     "data": {
      "text/plain": [
       "<matplotlib.lines.Line2D at 0x7f19b047ca30>"
      ]
     },
     "execution_count": 6,
     "metadata": {},
     "output_type": "execute_result"
    },
    {
     "data": {
      "image/png": "[encoded data removed]",
      "text/plain": [
       "<Figure size 432x288 with 1 Axes>"
      ]
     },
     "metadata": {
      "needs_background": "light"
     },
     "output_type": "display_data"
    }
   ],
   "source": [
    "tvmv_df.plot(kind='scatter', x='rank', y='scored_by')\n",
    "plt.xlim((0, 100))\n",
    "plt.axhline(y=tvmv_df['rank'].quantile(0.25), color='red')"
   ]
  },
  {
   "cell_type": "markdown",
   "id": "cc4c5d1b",
   "metadata": {},
   "source": [
    "Cut off animes which are out of top 5000 and have number of people voted for less than the median threshold"
   ]
  },
  {
   "cell_type": "code",
   "execution_count": 7,
   "id": "af43ddbf",
   "metadata": {},
   "outputs": [],
   "source": [
    "tvmv_df = tvmv_df[~((tvmv_df['rank'] > 5000) & (tvmv_df.scored_by < tvmv_df.scored_by.quantile(0.5)))]"
   ]
  },
  {
   "cell_type": "code",
   "execution_count": 8,
   "id": "00ef7d85",
   "metadata": {},
   "outputs": [
    {
     "data": {
      "text/plain": [
       "(2961, 33)"
      ]
     },
     "execution_count": 8,
     "metadata": {},
     "output_type": "execute_result"
    }
   ],
   "source": [
    "tvmv_df.shape"
   ]
  },
  {
   "cell_type": "markdown",
   "id": "daaa7d64",
   "metadata": {},
   "source": [
    "# Process our big list: UserAnimeList"
   ]
  },
  {
   "cell_type": "markdown",
   "id": "f7fa4e04",
   "metadata": {},
   "source": [
    "**Read necessary columns to memory**"
   ]
  },
  {
   "cell_type": "code",
   "execution_count": 9,
   "id": "2b5c370d",
   "metadata": {},
   "outputs": [
    {
     "name": "stdout",
     "output_type": "stream",
     "text": [
      "CPU times: user 34.5 s, sys: 1.74 s, total: 36.3 s\n",
      "Wall time: 36.7 s\n"
     ]
    }
   ],
   "source": [
    "%%time\n",
    "df = pd.read_csv('UserAnimeList.csv.zip', usecols=['username', 'anime_id', 'my_score'])"
   ]
  },
  {
   "cell_type": "code",
   "execution_count": 10,
   "id": "d2af472c",
   "metadata": {},
   "outputs": [
    {
     "name": "stdout",
     "output_type": "stream",
     "text": [
      "<class 'pandas.core.frame.DataFrame'>\n",
      "RangeIndex: 80076112 entries, 0 to 80076111\n",
      "Data columns (total 3 columns):\n",
      " #   Column    Dtype \n",
      "---  ------    ----- \n",
      " 0   username  object\n",
      " 1   anime_id  int64 \n",
      " 2   my_score  int64 \n",
      "dtypes: int64(2), object(1)\n",
      "memory usage: 1.8+ GB\n"
     ]
    }
   ],
   "source": [
    "df.info()"
   ]
  },
  {
   "cell_type": "markdown",
   "id": "e1f95753",
   "metadata": {},
   "source": [
    "**Only take animes which are in the given list**"
   ]
  },
  {
   "cell_type": "code",
   "execution_count": 11,
   "id": "f771dfc8",
   "metadata": {},
   "outputs": [
    {
     "name": "stdout",
     "output_type": "stream",
     "text": [
      "CPU times: user 1.87 s, sys: 1.52 s, total: 3.39 s\n",
      "Wall time: 3.41 s\n"
     ]
    }
   ],
   "source": [
    "%time df = df[df.anime_id.isin(tvmv_df.anime_id)]"
   ]
  },
  {
   "cell_type": "code",
   "execution_count": 12,
   "id": "c3ef70d8",
   "metadata": {},
   "outputs": [
    {
     "name": "stdout",
     "output_type": "stream",
     "text": [
      "<class 'pandas.core.frame.DataFrame'>\n",
      "Int64Index: 60647322 entries, 0 to 80076111\n",
      "Data columns (total 3 columns):\n",
      " #   Column    Dtype \n",
      "---  ------    ----- \n",
      " 0   username  object\n",
      " 1   anime_id  int64 \n",
      " 2   my_score  int64 \n",
      "dtypes: int64(2), object(1)\n",
      "memory usage: 1.8+ GB\n"
     ]
    }
   ],
   "source": [
    "df.info()"
   ]
  },
  {
   "cell_type": "markdown",
   "id": "14800f39",
   "metadata": {},
   "source": [
    "**Each user may watch an anime multiple times, only keep the one with max score**"
   ]
  },
  {
   "cell_type": "code",
   "execution_count": 13,
   "id": "de244303",
   "metadata": {},
   "outputs": [
    {
     "name": "stdout",
     "output_type": "stream",
     "text": [
      "CPU times: user 35.6 s, sys: 5.35 s, total: 41 s\n",
      "Wall time: 41 s\n"
     ]
    }
   ],
   "source": [
    "%time df = df.groupby(['anime_id', 'username'])['my_score'].max()"
   ]
  },
  {
   "cell_type": "markdown",
   "id": "6faca6f1",
   "metadata": {},
   "source": [
    "**Pivot the table**"
   ]
  },
  {
   "cell_type": "code",
   "execution_count": 14,
   "id": "f5ba1bd1",
   "metadata": {},
   "outputs": [
    {
     "name": "stdout",
     "output_type": "stream",
     "text": [
      "CPU times: user 20.5 s, sys: 11.7 s, total: 32.2 s\n",
      "Wall time: 32.3 s\n"
     ]
    }
   ],
   "source": [
    "%time df_pivot = df.unstack()"
   ]
  },
  {
   "cell_type": "code",
   "execution_count": 15,
   "id": "af9023ca",
   "metadata": {},
   "outputs": [
    {
     "name": "stdout",
     "output_type": "stream",
     "text": [
      "<class 'pandas.core.frame.DataFrame'>\n",
      "Int64Index: 2961 entries, 1 to 37204\n",
      "Columns: 281568 entries, ------- to zzzzzzzzzzzzzzz\n",
      "dtypes: float64(281568)\n",
      "memory usage: 6.2 GB\n"
     ]
    }
   ],
   "source": [
    "df_pivot.info()"
   ]
  },
  {
   "cell_type": "code",
   "execution_count": 16,
   "id": "a5620fb0",
   "metadata": {},
   "outputs": [
    {
     "data": {
      "text/plain": [
       "0"
      ]
     },
     "execution_count": 16,
     "metadata": {},
     "output_type": "execute_result"
    }
   ],
   "source": [
    "del df\n",
    "gc.collect()"
   ]
  },
  {
   "cell_type": "code",
   "execution_count": 17,
   "id": "3ad02b43",
   "metadata": {
    "scrolled": true
   },
   "outputs": [
    {
     "name": "stdout",
     "output_type": "stream",
     "text": [
      "CPU times: user 846 ms, sys: 80.6 ms, total: 927 ms\n",
      "Wall time: 935 ms\n"
     ]
    },
    {
     "data": {
      "text/plain": [
       "0.9272574655410071"
      ]
     },
     "execution_count": 17,
     "metadata": {},
     "output_type": "execute_result"
    }
   ],
   "source": [
    "%%time\n",
    "df_pivot.isnull().mean().mean()"
   ]
  },
  {
   "cell_type": "markdown",
   "id": "fbe182ee",
   "metadata": {},
   "source": [
    "92% of the dataframe is null!!"
   ]
  },
  {
   "cell_type": "code",
   "execution_count": 18,
   "id": "4f451aed",
   "metadata": {},
   "outputs": [],
   "source": [
    "pivot_sparse_df = df_pivot.astype(pd.SparseDtype('int64', np.nan))"
   ]
  },
  {
   "cell_type": "code",
   "execution_count": 19,
   "id": "3d0c82f0",
   "metadata": {},
   "outputs": [
    {
     "data": {
      "text/plain": [
       "0"
      ]
     },
     "execution_count": 19,
     "metadata": {},
     "output_type": "execute_result"
    }
   ],
   "source": [
    "del df_pivot\n",
    "gc.collect()"
   ]
  },
  {
   "cell_type": "code",
   "execution_count": 20,
   "id": "4e4edcbe",
   "metadata": {},
   "outputs": [],
   "source": [
    "pivot_sparse_df.index.name = None"
   ]
  },
  {
   "cell_type": "code",
   "execution_count": 21,
   "id": "34a0e933",
   "metadata": {},
   "outputs": [
    {
     "data": {
      "text/html": [
       "<div>\n",
       "<style scoped>\n",
       "    .dataframe tbody tr th:only-of-type {\n",
       "        vertical-align: middle;\n",
       "    }\n",
       "\n",
       "    .dataframe tbody tr th {\n",
       "        vertical-align: top;\n",
       "    }\n",
       "\n",
       "    .dataframe thead th {\n",
       "        text-align: right;\n",
       "    }\n",
       "</style>\n",
       "<table border=\"1\" class=\"dataframe\">\n",
       "  <thead>\n",
       "    <tr style=\"text-align: right;\">\n",
       "      <th>username</th>\n",
       "      <th>-------</th>\n",
       "      <th>----------</th>\n",
       "      <th>-------------</th>\n",
       "      <th>------o</th>\n",
       "      <th>-----aaa</th>\n",
       "      <th>-----noname-----</th>\n",
       "      <th>----Adrenadroid</th>\n",
       "      <th>----XII----</th>\n",
       "      <th>----phoebelyn</th>\n",
       "      <th>---Kuma---</th>\n",
       "      <th>...</th>\n",
       "      <th>zzzero</th>\n",
       "      <th>zzzett</th>\n",
       "      <th>zzzgaarazzz</th>\n",
       "      <th>zzzsss</th>\n",
       "      <th>zzzu</th>\n",
       "      <th>zzzyeknom0</th>\n",
       "      <th>zzzzz-chan</th>\n",
       "      <th>zzzzzzzBen</th>\n",
       "      <th>zzzzzzzzzzzzzz</th>\n",
       "      <th>zzzzzzzzzzzzzzz</th>\n",
       "    </tr>\n",
       "  </thead>\n",
       "  <tbody>\n",
       "    <tr>\n",
       "      <th>1</th>\n",
       "      <td>8.0</td>\n",
       "      <td>NaN</td>\n",
       "      <td>8.0</td>\n",
       "      <td>9.0</td>\n",
       "      <td>NaN</td>\n",
       "      <td>8.0</td>\n",
       "      <td>NaN</td>\n",
       "      <td>NaN</td>\n",
       "      <td>0.0</td>\n",
       "      <td>NaN</td>\n",
       "      <td>...</td>\n",
       "      <td>8.0</td>\n",
       "      <td>NaN</td>\n",
       "      <td>NaN</td>\n",
       "      <td>NaN</td>\n",
       "      <td>10.0</td>\n",
       "      <td>10.0</td>\n",
       "      <td>NaN</td>\n",
       "      <td>0.0</td>\n",
       "      <td>NaN</td>\n",
       "      <td>NaN</td>\n",
       "    </tr>\n",
       "    <tr>\n",
       "      <th>5</th>\n",
       "      <td>8.0</td>\n",
       "      <td>NaN</td>\n",
       "      <td>7.0</td>\n",
       "      <td>NaN</td>\n",
       "      <td>NaN</td>\n",
       "      <td>0.0</td>\n",
       "      <td>NaN</td>\n",
       "      <td>NaN</td>\n",
       "      <td>10.0</td>\n",
       "      <td>NaN</td>\n",
       "      <td>...</td>\n",
       "      <td>8.0</td>\n",
       "      <td>NaN</td>\n",
       "      <td>NaN</td>\n",
       "      <td>NaN</td>\n",
       "      <td>8.0</td>\n",
       "      <td>NaN</td>\n",
       "      <td>NaN</td>\n",
       "      <td>NaN</td>\n",
       "      <td>NaN</td>\n",
       "      <td>NaN</td>\n",
       "    </tr>\n",
       "    <tr>\n",
       "      <th>6</th>\n",
       "      <td>0.0</td>\n",
       "      <td>NaN</td>\n",
       "      <td>NaN</td>\n",
       "      <td>NaN</td>\n",
       "      <td>NaN</td>\n",
       "      <td>NaN</td>\n",
       "      <td>NaN</td>\n",
       "      <td>10.0</td>\n",
       "      <td>NaN</td>\n",
       "      <td>NaN</td>\n",
       "      <td>...</td>\n",
       "      <td>9.0</td>\n",
       "      <td>NaN</td>\n",
       "      <td>NaN</td>\n",
       "      <td>NaN</td>\n",
       "      <td>9.0</td>\n",
       "      <td>0.0</td>\n",
       "      <td>8.0</td>\n",
       "      <td>3.0</td>\n",
       "      <td>NaN</td>\n",
       "      <td>0.0</td>\n",
       "    </tr>\n",
       "    <tr>\n",
       "      <th>7</th>\n",
       "      <td>0.0</td>\n",
       "      <td>NaN</td>\n",
       "      <td>NaN</td>\n",
       "      <td>NaN</td>\n",
       "      <td>NaN</td>\n",
       "      <td>NaN</td>\n",
       "      <td>NaN</td>\n",
       "      <td>NaN</td>\n",
       "      <td>NaN</td>\n",
       "      <td>NaN</td>\n",
       "      <td>...</td>\n",
       "      <td>6.0</td>\n",
       "      <td>NaN</td>\n",
       "      <td>NaN</td>\n",
       "      <td>NaN</td>\n",
       "      <td>NaN</td>\n",
       "      <td>NaN</td>\n",
       "      <td>NaN</td>\n",
       "      <td>NaN</td>\n",
       "      <td>NaN</td>\n",
       "      <td>0.0</td>\n",
       "    </tr>\n",
       "    <tr>\n",
       "      <th>8</th>\n",
       "      <td>NaN</td>\n",
       "      <td>NaN</td>\n",
       "      <td>NaN</td>\n",
       "      <td>NaN</td>\n",
       "      <td>NaN</td>\n",
       "      <td>NaN</td>\n",
       "      <td>NaN</td>\n",
       "      <td>NaN</td>\n",
       "      <td>NaN</td>\n",
       "      <td>NaN</td>\n",
       "      <td>...</td>\n",
       "      <td>NaN</td>\n",
       "      <td>NaN</td>\n",
       "      <td>NaN</td>\n",
       "      <td>NaN</td>\n",
       "      <td>NaN</td>\n",
       "      <td>NaN</td>\n",
       "      <td>NaN</td>\n",
       "      <td>NaN</td>\n",
       "      <td>NaN</td>\n",
       "      <td>NaN</td>\n",
       "    </tr>\n",
       "    <tr>\n",
       "      <th>...</th>\n",
       "      <td>...</td>\n",
       "      <td>...</td>\n",
       "      <td>...</td>\n",
       "      <td>...</td>\n",
       "      <td>...</td>\n",
       "      <td>...</td>\n",
       "      <td>...</td>\n",
       "      <td>...</td>\n",
       "      <td>...</td>\n",
       "      <td>...</td>\n",
       "      <td>...</td>\n",
       "      <td>...</td>\n",
       "      <td>...</td>\n",
       "      <td>...</td>\n",
       "      <td>...</td>\n",
       "      <td>...</td>\n",
       "      <td>...</td>\n",
       "      <td>...</td>\n",
       "      <td>...</td>\n",
       "      <td>...</td>\n",
       "      <td>...</td>\n",
       "    </tr>\n",
       "    <tr>\n",
       "      <th>135</th>\n",
       "      <td>0.0</td>\n",
       "      <td>NaN</td>\n",
       "      <td>NaN</td>\n",
       "      <td>NaN</td>\n",
       "      <td>NaN</td>\n",
       "      <td>NaN</td>\n",
       "      <td>NaN</td>\n",
       "      <td>NaN</td>\n",
       "      <td>0.0</td>\n",
       "      <td>NaN</td>\n",
       "      <td>...</td>\n",
       "      <td>9.0</td>\n",
       "      <td>NaN</td>\n",
       "      <td>NaN</td>\n",
       "      <td>NaN</td>\n",
       "      <td>0.0</td>\n",
       "      <td>NaN</td>\n",
       "      <td>9.0</td>\n",
       "      <td>NaN</td>\n",
       "      <td>NaN</td>\n",
       "      <td>NaN</td>\n",
       "    </tr>\n",
       "    <tr>\n",
       "      <th>136</th>\n",
       "      <td>0.0</td>\n",
       "      <td>NaN</td>\n",
       "      <td>NaN</td>\n",
       "      <td>NaN</td>\n",
       "      <td>NaN</td>\n",
       "      <td>NaN</td>\n",
       "      <td>NaN</td>\n",
       "      <td>9.0</td>\n",
       "      <td>0.0</td>\n",
       "      <td>NaN</td>\n",
       "      <td>...</td>\n",
       "      <td>9.0</td>\n",
       "      <td>NaN</td>\n",
       "      <td>NaN</td>\n",
       "      <td>NaN</td>\n",
       "      <td>NaN</td>\n",
       "      <td>10.0</td>\n",
       "      <td>NaN</td>\n",
       "      <td>NaN</td>\n",
       "      <td>10.0</td>\n",
       "      <td>NaN</td>\n",
       "    </tr>\n",
       "    <tr>\n",
       "      <th>142</th>\n",
       "      <td>6.0</td>\n",
       "      <td>NaN</td>\n",
       "      <td>NaN</td>\n",
       "      <td>NaN</td>\n",
       "      <td>NaN</td>\n",
       "      <td>NaN</td>\n",
       "      <td>NaN</td>\n",
       "      <td>NaN</td>\n",
       "      <td>NaN</td>\n",
       "      <td>8.0</td>\n",
       "      <td>...</td>\n",
       "      <td>NaN</td>\n",
       "      <td>NaN</td>\n",
       "      <td>NaN</td>\n",
       "      <td>NaN</td>\n",
       "      <td>NaN</td>\n",
       "      <td>NaN</td>\n",
       "      <td>NaN</td>\n",
       "      <td>NaN</td>\n",
       "      <td>NaN</td>\n",
       "      <td>NaN</td>\n",
       "    </tr>\n",
       "    <tr>\n",
       "      <th>143</th>\n",
       "      <td>NaN</td>\n",
       "      <td>NaN</td>\n",
       "      <td>NaN</td>\n",
       "      <td>NaN</td>\n",
       "      <td>NaN</td>\n",
       "      <td>NaN</td>\n",
       "      <td>NaN</td>\n",
       "      <td>NaN</td>\n",
       "      <td>NaN</td>\n",
       "      <td>NaN</td>\n",
       "      <td>...</td>\n",
       "      <td>NaN</td>\n",
       "      <td>NaN</td>\n",
       "      <td>NaN</td>\n",
       "      <td>NaN</td>\n",
       "      <td>NaN</td>\n",
       "      <td>NaN</td>\n",
       "      <td>NaN</td>\n",
       "      <td>NaN</td>\n",
       "      <td>NaN</td>\n",
       "      <td>0.0</td>\n",
       "    </tr>\n",
       "    <tr>\n",
       "      <th>144</th>\n",
       "      <td>NaN</td>\n",
       "      <td>NaN</td>\n",
       "      <td>NaN</td>\n",
       "      <td>NaN</td>\n",
       "      <td>NaN</td>\n",
       "      <td>NaN</td>\n",
       "      <td>NaN</td>\n",
       "      <td>NaN</td>\n",
       "      <td>NaN</td>\n",
       "      <td>NaN</td>\n",
       "      <td>...</td>\n",
       "      <td>NaN</td>\n",
       "      <td>NaN</td>\n",
       "      <td>NaN</td>\n",
       "      <td>NaN</td>\n",
       "      <td>NaN</td>\n",
       "      <td>NaN</td>\n",
       "      <td>NaN</td>\n",
       "      <td>NaN</td>\n",
       "      <td>NaN</td>\n",
       "      <td>NaN</td>\n",
       "    </tr>\n",
       "  </tbody>\n",
       "</table>\n",
       "<p>100 rows × 281568 columns</p>\n",
       "</div>"
      ],
      "text/plain": [
       "username  -------  ----------  -------------  ------o  -----aaa  \\\n",
       "1             8.0         NaN            8.0      9.0       NaN   \n",
       "5             8.0         NaN            7.0      NaN       NaN   \n",
       "6             0.0         NaN            NaN      NaN       NaN   \n",
       "7             0.0         NaN            NaN      NaN       NaN   \n",
       "8             NaN         NaN            NaN      NaN       NaN   \n",
       "..            ...         ...            ...      ...       ...   \n",
       "135           0.0         NaN            NaN      NaN       NaN   \n",
       "136           0.0         NaN            NaN      NaN       NaN   \n",
       "142           6.0         NaN            NaN      NaN       NaN   \n",
       "143           NaN         NaN            NaN      NaN       NaN   \n",
       "144           NaN         NaN            NaN      NaN       NaN   \n",
       "\n",
       "username  -----noname-----  ----Adrenadroid  ----XII----  ----phoebelyn  \\\n",
       "1                      8.0              NaN          NaN            0.0   \n",
       "5                      0.0              NaN          NaN           10.0   \n",
       "6                      NaN              NaN         10.0            NaN   \n",
       "7                      NaN              NaN          NaN            NaN   \n",
       "8                      NaN              NaN          NaN            NaN   \n",
       "..                     ...              ...          ...            ...   \n",
       "135                    NaN              NaN          NaN            0.0   \n",
       "136                    NaN              NaN          9.0            0.0   \n",
       "142                    NaN              NaN          NaN            NaN   \n",
       "143                    NaN              NaN          NaN            NaN   \n",
       "144                    NaN              NaN          NaN            NaN   \n",
       "\n",
       "username  ---Kuma---  ...  zzzero  zzzett  zzzgaarazzz  zzzsss  zzzu  \\\n",
       "1                NaN  ...     8.0     NaN          NaN     NaN  10.0   \n",
       "5                NaN  ...     8.0     NaN          NaN     NaN   8.0   \n",
       "6                NaN  ...     9.0     NaN          NaN     NaN   9.0   \n",
       "7                NaN  ...     6.0     NaN          NaN     NaN   NaN   \n",
       "8                NaN  ...     NaN     NaN          NaN     NaN   NaN   \n",
       "..               ...  ...     ...     ...          ...     ...   ...   \n",
       "135              NaN  ...     9.0     NaN          NaN     NaN   0.0   \n",
       "136              NaN  ...     9.0     NaN          NaN     NaN   NaN   \n",
       "142              8.0  ...     NaN     NaN          NaN     NaN   NaN   \n",
       "143              NaN  ...     NaN     NaN          NaN     NaN   NaN   \n",
       "144              NaN  ...     NaN     NaN          NaN     NaN   NaN   \n",
       "\n",
       "username  zzzyeknom0  zzzzz-chan  zzzzzzzBen  zzzzzzzzzzzzzz  zzzzzzzzzzzzzzz  \n",
       "1               10.0         NaN         0.0             NaN              NaN  \n",
       "5                NaN         NaN         NaN             NaN              NaN  \n",
       "6                0.0         8.0         3.0             NaN              0.0  \n",
       "7                NaN         NaN         NaN             NaN              0.0  \n",
       "8                NaN         NaN         NaN             NaN              NaN  \n",
       "..               ...         ...         ...             ...              ...  \n",
       "135              NaN         9.0         NaN             NaN              NaN  \n",
       "136             10.0         NaN         NaN            10.0              NaN  \n",
       "142              NaN         NaN         NaN             NaN              NaN  \n",
       "143              NaN         NaN         NaN             NaN              0.0  \n",
       "144              NaN         NaN         NaN             NaN              NaN  \n",
       "\n",
       "[100 rows x 281568 columns]"
      ]
     },
     "execution_count": 21,
     "metadata": {},
     "output_type": "execute_result"
    }
   ],
   "source": [
    "pivot_sparse_df.head(100)"
   ]
  },
  {
   "cell_type": "code",
   "execution_count": 25,
   "id": "e4734bbb",
   "metadata": {},
   "outputs": [],
   "source": [
    "pivot_sparse_df.to_pickle('UserAnimeList_Pivot-3.9.12.pkl')"
   ]
  }
 ],
 "metadata": {
  "kernelspec": {
   "display_name": "Python 3 (ipykernel)",
   "language": "python",
   "name": "python3"
  },
  "language_info": {
   "codemirror_mode": {
    "name": "ipython",
    "version": 3
   },
   "file_extension": ".py",
   "mimetype": "text/x-python",
   "name": "python",
   "nbconvert_exporter": "python",
   "pygments_lexer": "ipython3",
   "version": "3.9.12"
  }
 },
 "nbformat": 4,
 "nbformat_minor": 5
}
